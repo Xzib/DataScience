{
 "cells": [
  {
   "cell_type": "code",
   "execution_count": 8,
   "metadata": {},
   "outputs": [
    {
     "ename": "MemoryError",
     "evalue": "",
     "output_type": "error",
     "traceback": [
      "\u001b[1;31m---------------------------------------------------------------------------\u001b[0m",
      "\u001b[1;31mMemoryError\u001b[0m                               Traceback (most recent call last)",
      "\u001b[1;32m<ipython-input-8-2d41e4c181db>\u001b[0m in \u001b[0;36m<module>\u001b[1;34m\u001b[0m\n\u001b[0;32m      4\u001b[0m \u001b[1;32mfrom\u001b[0m \u001b[0mPIL\u001b[0m \u001b[1;32mimport\u001b[0m \u001b[0mImage\u001b[0m\u001b[1;33m\u001b[0m\u001b[1;33m\u001b[0m\u001b[0m\n\u001b[0;32m      5\u001b[0m \u001b[1;33m\u001b[0m\u001b[0m\n\u001b[1;32m----> 6\u001b[1;33m \u001b[0mimg_array\u001b[0m \u001b[1;33m=\u001b[0m \u001b[0mnp\u001b[0m\u001b[1;33m.\u001b[0m\u001b[0mzeros\u001b[0m\u001b[1;33m(\u001b[0m\u001b[1;33m[\u001b[0m\u001b[1;36m20\u001b[0m\u001b[1;33m,\u001b[0m\u001b[1;36m8000\u001b[0m\u001b[1;33m,\u001b[0m\u001b[1;36m8000\u001b[0m\u001b[1;33m,\u001b[0m\u001b[1;36m3\u001b[0m\u001b[1;33m]\u001b[0m\u001b[1;33m)\u001b[0m\u001b[1;33m\u001b[0m\u001b[1;33m\u001b[0m\u001b[0m\n\u001b[0m\u001b[0;32m      7\u001b[0m \u001b[0mcount\u001b[0m \u001b[1;33m=\u001b[0m \u001b[1;36m0\u001b[0m\u001b[1;33m\u001b[0m\u001b[1;33m\u001b[0m\u001b[0m\n\u001b[0;32m      8\u001b[0m \u001b[1;32mwhile\u001b[0m \u001b[0mcount\u001b[0m\u001b[1;33m!=\u001b[0m\u001b[1;36m20\u001b[0m\u001b[1;33m:\u001b[0m\u001b[1;33m\u001b[0m\u001b[1;33m\u001b[0m\u001b[0m\n",
      "\u001b[1;31mMemoryError\u001b[0m: "
     ]
    }
   ],
   "source": [
    "import numpy as np\n",
    "from matplotlib import pyplot as plt\n",
    "import os \n",
    "from PIL import Image\n",
    "\n",
    "img_array = np.zeros([20,8000,8000,3])\n",
    "count = 0\n",
    "while count!=20:    \n",
    "    for subdirs, dirs, files in os.walk('.'):   \n",
    "        for file in files:\n",
    "            filepath = subdirs + os.sep + file\n",
    "            if filepath.endswith('.jpg'):\n",
    "                image = Image.open(filepath)\n",
    "                img_array[count] = np.array(image)\n",
    "                count += 1 \n",
    "print(type(img_array))\n",
    "\n",
    "\n",
    "\n"
   ]
  },
  {
   "cell_type": "code",
   "execution_count": 4,
   "metadata": {},
   "outputs": [
    {
     "name": "stdout",
     "output_type": "stream",
     "text": [
      "Help on function imread in module matplotlib.pyplot:\n",
      "\n",
      "imread(fname, format=None)\n",
      "    Read an image from a file into an array.\n",
      "    \n",
      "    Parameters\n",
      "    ----------\n",
      "    fname : str or file-like\n",
      "        The image file to read. This can be a filename, a URL or a Python\n",
      "        file-like object opened in read-binary mode.\n",
      "    format : str, optional\n",
      "        The image file format assumed for reading the data. If not\n",
      "        given, the format is deduced from the filename.  If nothing can\n",
      "        be deduced, PNG is tried.\n",
      "    \n",
      "    Returns\n",
      "    -------\n",
      "    imagedata : :class:`numpy.array`\n",
      "        The image data. The returned array has shape\n",
      "    \n",
      "        - (M, N) for grayscale images.\n",
      "        - (M, N, 3) for RGB images.\n",
      "        - (M, N, 4) for RGBA images.\n",
      "    \n",
      "    Notes\n",
      "    -----\n",
      "    Matplotlib can only read PNGs natively. Further image formats are\n",
      "    supported via the optional dependency on Pillow. Note, URL strings\n",
      "    are not compatible with Pillow. Check the `Pillow documentation`_\n",
      "    for more information.\n",
      "    \n",
      "    .. _Pillow documentation: http://pillow.readthedocs.io/en/latest/\n",
      "\n"
     ]
    }
   ],
   "source": [
    "help(plt.imread)"
   ]
  },
  {
   "cell_type": "code",
   "execution_count": null,
   "metadata": {},
   "outputs": [],
   "source": []
  }
 ],
 "metadata": {
  "kernelspec": {
   "display_name": "Python 3",
   "language": "python",
   "name": "python3"
  },
  "language_info": {
   "codemirror_mode": {
    "name": "ipython",
    "version": 3
   },
   "file_extension": ".py",
   "mimetype": "text/x-python",
   "name": "python",
   "nbconvert_exporter": "python",
   "pygments_lexer": "ipython3",
   "version": "3.7.4"
  }
 },
 "nbformat": 4,
 "nbformat_minor": 2
}
