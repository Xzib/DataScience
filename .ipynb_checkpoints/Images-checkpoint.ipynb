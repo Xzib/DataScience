{
 "cells": [
  {
   "cell_type": "code",
   "execution_count": 16,
   "metadata": {},
   "outputs": [
    {
     "name": "stdout",
     "output_type": "stream",
     "text": [
      "inside folder..\n",
      "['.git', '.ipynb_checkpoints', 'images', 'Images.ipynb']\n",
      "subfolder...\n",
      ".\\Images.ipynb\n"
     ]
    }
   ],
   "source": [
    "import numpy as np\n",
    "from matplotlib import pyplot as plt\n",
    "import os \n",
    "from PIL import Image\n",
    "\n",
    "\n",
    "size = 800, 800\n",
    "img_array = np.zeros([20,800,800,3])\n",
    "count = 0    \n",
    "for subdirs, dirs, files in os.walk('.'):  \n",
    "    print(\"inside folder..\")\n",
    "    #dir_1 = os.listdir('.')\n",
    "    #print(dir_1)\n",
    "    for file in files:    \n",
    "        print('subfolder...')\n",
    "        filepath = os.path.join(subdirs,file)\n",
    "        print(filepath)\n",
    "        if filepath.endswith('.jpg') and count!=20:\n",
    "            image = Image.open(filepath).resize(size)\n",
    "            print(image.size)\n",
    "            print('='.center(20))\n",
    "            im = plt.imread(image)\n",
    "            img_array[count] = im\n",
    "            count += 1 \n",
    "#print(type(img_array))\n",
    "#print(img_array[:20,400:800,400:800,:3])\n",
    "\n",
    "\n",
    "\n"
   ]
  },
  {
   "cell_type": "code",
   "execution_count": 4,
   "metadata": {},
   "outputs": [
    {
     "name": "stdout",
     "output_type": "stream",
     "text": [
      "Help on function imread in module matplotlib.pyplot:\n",
      "\n",
      "imread(fname, format=None)\n",
      "    Read an image from a file into an array.\n",
      "    \n",
      "    Parameters\n",
      "    ----------\n",
      "    fname : str or file-like\n",
      "        The image file to read. This can be a filename, a URL or a Python\n",
      "        file-like object opened in read-binary mode.\n",
      "    format : str, optional\n",
      "        The image file format assumed for reading the data. If not\n",
      "        given, the format is deduced from the filename.  If nothing can\n",
      "        be deduced, PNG is tried.\n",
      "    \n",
      "    Returns\n",
      "    -------\n",
      "    imagedata : :class:`numpy.array`\n",
      "        The image data. The returned array has shape\n",
      "    \n",
      "        - (M, N) for grayscale images.\n",
      "        - (M, N, 3) for RGB images.\n",
      "        - (M, N, 4) for RGBA images.\n",
      "    \n",
      "    Notes\n",
      "    -----\n",
      "    Matplotlib can only read PNGs natively. Further image formats are\n",
      "    supported via the optional dependency on Pillow. Note, URL strings\n",
      "    are not compatible with Pillow. Check the `Pillow documentation`_\n",
      "    for more information.\n",
      "    \n",
      "    .. _Pillow documentation: http://pillow.readthedocs.io/en/latest/\n",
      "\n"
     ]
    }
   ],
   "source": [
    "help(plt.imread)"
   ]
  },
  {
   "cell_type": "markdown",
   "metadata": {},
   "source": [
    "  <h1>Pandas</h1>"
   ]
  },
  {
   "cell_type": "code",
   "execution_count": 19,
   "metadata": {},
   "outputs": [
    {
     "data": {
      "text/plain": [
       "0    1\n",
       "1    2\n",
       "2    3\n",
       "3    4\n",
       "4    5\n",
       "dtype: int64"
      ]
     },
     "execution_count": 19,
     "metadata": {},
     "output_type": "execute_result"
    }
   ],
   "source": [
    "import pandas as pd\n",
    "series_data = pd.Series([1,2,3,4,5])\n",
    "series_data"
   ]
  },
  {
   "cell_type": "code",
   "execution_count": 20,
   "metadata": {},
   "outputs": [
    {
     "name": "stdout",
     "output_type": "stream",
     "text": [
      "0    100\n",
      "1    200\n",
      "2    300\n",
      "3    400\n",
      "dtype: int64\n",
      "[100 200 300 400]\n",
      "RangeIndex(start=0, stop=4, step=1)\n"
     ]
    }
   ],
   "source": [
    "sales = pd.Series([100,200,300,400])\n",
    "print(sales)\n",
    "print(sales.values)\n",
    "print(sales.index)"
   ]
  },
  {
   "cell_type": "code",
   "execution_count": 25,
   "metadata": {},
   "outputs": [
    {
     "name": "stdout",
     "output_type": "stream",
     "text": [
      "jan      100\n",
      "feb      200\n",
      "march    300\n",
      "april    400\n",
      "dtype: int64\n",
      "[100 200 300 400]\n",
      "Index(['jan', 'feb', 'march', 'april'], dtype='object')\n"
     ]
    }
   ],
   "source": [
    "sales = pd.Series([100,200,300,400], index = ['jan','feb','march','april'])\n",
    "print(sales)\n",
    "print(sales.values)\n",
    "print(sales.index)"
   ]
  },
  {
   "cell_type": "code",
   "execution_count": 26,
   "metadata": {},
   "outputs": [
    {
     "name": "stdout",
     "output_type": "stream",
     "text": [
      "jan      100\n",
      "feb      200\n",
      "march    300\n",
      "april    400\n",
      "Name: 4 months report, dtype: int64\n",
      "[100 200 300 400]\n",
      "Index(['jan', 'feb', 'march', 'april'], dtype='object')\n"
     ]
    }
   ],
   "source": [
    "sales = pd.Series([100,200,300,400], \n",
    "                  index = ['jan','feb','march','april'],\n",
    "                    name = '4 months report')\n",
    "print(sales)\n",
    "print(sales.values)\n",
    "print(sales.index)"
   ]
  },
  {
   "cell_type": "code",
   "execution_count": 31,
   "metadata": {},
   "outputs": [
    {
     "name": "stdout",
     "output_type": "stream",
     "text": [
      "January     20\n",
      "February    30\n",
      "March       20\n",
      "April       25\n",
      "May         30\n",
      "June        40\n",
      "July         0\n",
      "Name: Sales data, dtype: int64\n"
     ]
    }
   ],
   "source": [
    "import calendar as cal\n",
    "sw = pd.Series([20,30,20,25,30,40,0],\n",
    "              index = [cal.month_name[x] for x in range(1,8)],\n",
    "              name = 'Sales data')\n",
    "print(sw)"
   ]
  },
  {
   "cell_type": "code",
   "execution_count": 37,
   "metadata": {},
   "outputs": [
    {
     "data": {
      "text/plain": [
       "January     False\n",
       "February     True\n",
       "March       False\n",
       "April        True\n",
       "May          True\n",
       "June         True\n",
       "July        False\n",
       "Name: Sales data, dtype: bool"
      ]
     },
     "execution_count": 37,
     "metadata": {},
     "output_type": "execute_result"
    }
   ],
   "source": [
    "sw>20"
   ]
  },
  {
   "cell_type": "code",
   "execution_count": 38,
   "metadata": {},
   "outputs": [
    {
     "data": {
      "text/plain": [
       "January     40\n",
       "February    60\n",
       "March       40\n",
       "April       50\n",
       "May         60\n",
       "June        80\n",
       "July         0\n",
       "Name: Sales data, dtype: int64"
      ]
     },
     "execution_count": 38,
     "metadata": {},
     "output_type": "execute_result"
    }
   ],
   "source": [
    "sw * 2"
   ]
  },
  {
   "cell_type": "code",
   "execution_count": 39,
   "metadata": {},
   "outputs": [
    {
     "data": {
      "text/plain": [
       "True"
      ]
     },
     "execution_count": 39,
     "metadata": {},
     "output_type": "execute_result"
    }
   ],
   "source": [
    "'January' in sw"
   ]
  },
  {
   "cell_type": "code",
   "execution_count": 40,
   "metadata": {},
   "outputs": [
    {
     "name": "stdout",
     "output_type": "stream",
     "text": [
      "Sindh          3500\n",
      "Punjab         4500\n",
      "KPK            3000\n",
      "Baluchistan    2000\n",
      "dtype: int64\n",
      "Index(['Sindh', 'Punjab', 'KPK', 'Baluchistan'], dtype='object')\n"
     ]
    }
   ],
   "source": [
    "sData = {'Sindh':3500,'Punjab':4500,'KPK':3000, 'Baluchistan':2000}\n",
    "tax_by_state = pd.Series(sData)\n",
    "print(tax_by_state)\n",
    "print(tax_by_state.index)"
   ]
  },
  {
   "cell_type": "code",
   "execution_count": 52,
   "metadata": {},
   "outputs": [
    {
     "name": "stdout",
     "output_type": "stream",
     "text": [
      "Sindh          3500.0\n",
      "Punjab         4500.0\n",
      "KPK            3000.0\n",
      "Baluchistan    2000.0\n",
      "GB                NaN\n",
      "dtype: float64\n",
      "Sindh          False\n",
      "Punjab         False\n",
      "KPK            False\n",
      "Baluchistan    False\n",
      "GB              True\n",
      "dtype: bool\n"
     ]
    }
   ],
   "source": [
    "sData = {'Sindh':3500,'Punjab':4500,'KPK':3000, 'Baluchistan':2000}\n",
    "tax_by_state = pd.Series(sData,\n",
    "                        index = ['Sindh','Punjab','KPK','Baluchistan','GB'],dtype='int64')\n",
    "print(tax_by_state)\n",
    "print(pd.isnull(tax_by_state))\n",
    "\n"
   ]
  },
  {
   "cell_type": "code",
   "execution_count": null,
   "metadata": {},
   "outputs": [],
   "source": [
    "sData = {'Sindh':3500,'Punjab':4500,'KPK':3000, 'Baluchistan':2000}\n",
    "tax_by_state = pd.Series(sData,\n",
    "                        index = ['Sindh','Punjab','KPK','Baluchistan','GB'],dtype='int64')\n",
    "print(sw)\n",
    "sw.index = ['m', 't', 'w', 't', 'f','s','s']\n",
    "print()"
   ]
  },
  {
   "cell_type": "code",
   "execution_count": null,
   "metadata": {},
   "outputs": [],
   "source": []
  }
 ],
 "metadata": {
  "kernelspec": {
   "display_name": "Python 3",
   "language": "python",
   "name": "python3"
  },
  "language_info": {
   "codemirror_mode": {
    "name": "ipython",
    "version": 3
   },
   "file_extension": ".py",
   "mimetype": "text/x-python",
   "name": "python",
   "nbconvert_exporter": "python",
   "pygments_lexer": "ipython3",
   "version": "3.7.4"
  }
 },
 "nbformat": 4,
 "nbformat_minor": 2
}
